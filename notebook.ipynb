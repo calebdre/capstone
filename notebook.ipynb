{
 "cells": [
  {
   "cell_type": "code",
   "execution_count": null,
   "metadata": {},
   "outputs": [],
   "source": [
    "import pandas as pd\n",
    "import numpy as np\n",
    "import random\n",
    "import os\n",
    "import networkx as nx\n",
    "import tqdm\n",
    "\n",
    "import matplotlib.pyplot as plt\n",
    "from sklearn.linear_model import LinearRegression\n",
    "from sklearn.ensemble import RandomForestRegressor\n",
    "from sklearn.model_selection import train_test_split\n",
    "from pylab import rcParams\n",
    "from multiprocessing import Pool, cpu_count\n",
    "from functools import partial\n",
    "\n",
    "\n",
    "from importlib import reload\n",
    "import merf.merf\n",
    "rcParams['figure.figsize'] = 18, 15\n",
    "\n",
    "%matplotlib inline"
   ]
  },
  {
   "cell_type": "code",
   "execution_count": null,
   "metadata": {},
   "outputs": [],
   "source": [
    "ideologies_dir = \"./\"\n",
    "followers_dir = \"../followers/\"\n",
    "geolocations_dir = \"./\""
   ]
  },
  {
   "cell_type": "code",
   "execution_count": null,
   "metadata": {},
   "outputs": [],
   "source": [
    "ideals1 = pd.read_csv(ideologies_dir + \"user-ideal-points-201807-000000000000.csv\", usecols=[\"id_str\", \"theta\"])\n",
    "ideals2 = pd.read_csv(ideologies_dir + \"user-ideal-points-201807-000000000001.csv\",  usecols=[\"id_str\", \"theta\"])\n",
    "ideals3 =  pd.read_csv(ideologies_dir + \"user-ideal-points-201807-000000000002.csv\",  usecols=[\"id_str\", \"theta\"])\n",
    "\n",
    "ideals = ideals1.append(ideals2).append(ideals3)"
   ]
  },
  {
   "cell_type": "code",
   "execution_count": null,
   "metadata": {},
   "outputs": [],
   "source": [
    "user_ids = os.listdir(followers_dir)"
   ]
  },
  {
   "cell_type": "code",
   "execution_count": null,
   "metadata": {},
   "outputs": [],
   "source": [
    "geos1 = pd.read_csv(geolocations_dir + \"already_located_random_users_machine00.csv\", usecols=[\"user_id\", \"longitude\", \"latitude\", \"raw_location\", \"country\"])\n",
    "geos2 = pd.read_csv(geolocations_dir + \"already_located_random_users_machine01.csv\", usecols=[\"user_id\", \"longitude\", \"latitude\", \"raw_location\", \"country\"])\n",
    "geos3 = pd.read_csv(geolocations_dir + \"already_located_random_users_machine02.csv\", usecols=[\"user_id\", \"longitude\", \"latitude\", \"raw_location\", \"country\"])\n",
    "\n",
    "geos = geos1.append(geos2).append(geos3)"
   ]
  },
  {
   "cell_type": "code",
   "execution_count": null,
   "metadata": {},
   "outputs": [],
   "source": [
    "geos"
   ]
  },
  {
   "cell_type": "code",
   "execution_count": null,
   "metadata": {},
   "outputs": [],
   "source": [
    "sample_size = 2000\n",
    "ideal_ids = ideals[\"id_str\"]\n",
    "geo_ids = geos[\"user_id\"]"
   ]
  },
  {
   "cell_type": "code",
   "execution_count": null,
   "metadata": {},
   "outputs": [],
   "source": [
    "combined_ids = np.intersect1d(np.intersect1d(ideal_ids.values, geo_ids.values), user_ids)\n",
    "combined_ids = combined_ids.tolist()"
   ]
  },
  {
   "cell_type": "code",
   "execution_count": null,
   "metadata": {},
   "outputs": [],
   "source": [
    "random_users = combined_ids"
   ]
  },
  {
   "cell_type": "code",
   "execution_count": null,
   "metadata": {},
   "outputs": [],
   "source": [
    "fname = lambda user_id: followers_dir + str(user_id) + \"/\" + os.listdir(followers_dir + str(user_id))[0]\n",
    "result = []\n",
    "graph = {}\n",
    "iterations = 0\n",
    "to_visit = []"
   ]
  },
  {
   "cell_type": "code",
   "execution_count": null,
   "metadata": {},
   "outputs": [],
   "source": [
    "for u in tqdm.tqdm(combined_ids):\n",
    "    df = pd.read_csv(fname(u))\n",
    "    graph[u] = df[df[\"user_id_followers\"].isin(combined_ids)]"
   ]
  },
  {
   "cell_type": "code",
   "execution_count": null,
   "metadata": {},
   "outputs": [],
   "source": [
    "graph"
   ]
  },
  {
   "cell_type": "code",
   "execution_count": null,
   "metadata": {},
   "outputs": [],
   "source": [
    "fname = lambda user_id: followers_dir + str(user_id) + \"/\" + os.listdir(followers_dir + str(user_id))[0]\n",
    "result = {}\n",
    "with tqdm.tqdm_notebook(total = sample_size, desc = \"sample iterations\") as t:\n",
    "    while len(result.keys()) < sample_size:\n",
    "        random_users = random.sample(combined_ids, sample_size)\n",
    "        collected = 0\n",
    "        for u in tqdm.tqdm_notebook(random_users, desc = \"collecting random uers\", leave = False):\n",
    "            if u not in result:\n",
    "                df = pd.read_csv(fname(u))\n",
    "                subgraph = df[df[\"user_id_followers\"].isin(random_users)]\n",
    "                if len(subgraph) > 0:\n",
    "                    result[u] = subgraph\n",
    "                    collected += 1\n",
    "            \n",
    "        t.update(collected)\n",
    "        collected = 0\n",
    "for u in tqdm.tqdm_notebook(result.keys()):\n",
    "    df = pd.read_csv(fname(u))\n",
    "    subgraph = df[df[\"user_id_followers\"].isin(random_users)]\n",
    "    result[u].append(subgraph).drop_duplicates()\n",
    "    "
   ]
  },
  {
   "cell_type": "code",
   "execution_count": null,
   "metadata": {},
   "outputs": [],
   "source": [
    "for u in tqdm.tqdm_notebook(result.keys()):\n",
    "    df = pd.read_csv(fname(u))\n",
    "    subgraph = df[df[\"user_id_followers\"].isin(random_users)]\n",
    "    result[u].append(subgraph).drop_duplicates()"
   ]
  },
  {
   "cell_type": "code",
   "execution_count": null,
   "metadata": {},
   "outputs": [],
   "source": [
    "fname = lambda user_id: followers_dir + str(user_id) + \"/\" + os.listdir(followers_dir + str(user_id))[0]\n",
    "visited = []\n",
    "graph = {}\n",
    "random_users = random.sample(combined_ids, sample_size / 2)\n",
    "to_visit = [random_users]\n",
    "i = 0\n",
    "with tqdm.tqdm_notebook(total = sample_size, desc = \"sample iterations\") as t:\n",
    "    while len(visited) < sample_size:\n",
    "        u = to_visit.pop(0)\n",
    "        try:\n",
    "            df = pd.read_csv(fname(u))\n",
    "        except:\n",
    "            continue\n",
    "        visited.append(u)\n",
    "        subgraph = df[df[\"user_id_followers\"].isin(graph.keys())]\n",
    "        \n",
    "        to_visit += df[\"user_id_followers\"].values.tolist()\n",
    "        if len(subgraph) > 0 :\n",
    "            graph[u] = subgraph\n",
    "            t.update(1)\n",
    "        i += 1"
   ]
  },
  {
   "cell_type": "code",
   "execution_count": null,
   "metadata": {},
   "outputs": [],
   "source": []
  },
  {
   "cell_type": "code",
   "execution_count": null,
   "metadata": {},
   "outputs": [],
   "source": [
    "fname = lambda user_id: followers_dir + str(user_id) + \"/\" + os.listdir(followers_dir + str(user_id))[0]\n",
    "result = []\n",
    "graph = {}\n",
    "with tqdm.tqdm_notebook(total = sample_size, desc = \"sample iterations\") as t:\n",
    "    while len(graph.keys()) < sample_size:\n",
    "        random_users = random.sample(combined_ids, sample_size)\n",
    "        collected = 0\n",
    "        for u in tqdm.tqdm_notebook(random_users, desc = \"collecting random uers\", leave = False):\n",
    "            if u not in graph:\n",
    "                df = pd.read_csv(fname(u))\n",
    "                subgraph = df[df[\"user_id_followers\"].isin(random_users)]\n",
    "                if len(subgraph) > 0:\n",
    "                    graph[u] = subgraph\n",
    "                    collected += 1\n",
    "            \n",
    "        t.update(collected)\n",
    "        collected = 0\n",
    "\n",
    "print(\"Backward propagating...\")\n",
    "for u in tqdm.tqdm_notebook(graph.keys(), desc = \"parsing collected random users\"):\n",
    "    df = pd.read_csv(fname(u))\n",
    "    subgraph = df[df[\"user_id_followers\"].isin(random_users)]\n",
    "    subgraph = graph[u].append(subgraph).drop_duplicates()\n",
    "    if mode == \"LINE\":\n",
    "        func = lambda x: {\"source_node\": u, \"target_node\": x, \"weight\": 1}\n",
    "    else:\n",
    "        func = lambda x: {\"node_1\": u, \"node_2\": x}\n",
    "    subgraph = pd.DataFrame(subgraph[\"user_id_followers\"].apply(func).tolist())\n",
    "    result.append(subgraph)"
   ]
  },
  {
   "cell_type": "code",
   "execution_count": null,
   "metadata": {},
   "outputs": [],
   "source": [
    "mode = \"LINE\"\n",
    "print(\"Backward propagating...\")\n",
    "for u in tqdm.tqdm_notebook(graph.keys(), desc = \"parsing collected random users\"):\n",
    "    df = pd.read_csv(fname(u))\n",
    "    subgraph = df[df[\"user_id_followers\"].isin(random_users)]\n",
    "    subgraph = graph[u].append(subgraph).drop_duplicates()\n",
    "    if mode == \"LINE\":\n",
    "        func = lambda x: {\"source_node\": u, \"target_node\": x, \"weight\": 1}\n",
    "    else:\n",
    "        func = lambda x: {\"node_1\": u, \"node_2\": x}\n",
    "    subgraph = pd.DataFrame(subgraph[\"user_id_followers\"].apply(func).tolist())\n",
    "    line_result.append(subgraph)"
   ]
  },
  {
   "cell_type": "code",
   "execution_count": null,
   "metadata": {},
   "outputs": [],
   "source": [
    "fname = lambda user_id: followers_dir + str(user_id) + \"/\" + os.listdir(followers_dir + str(user_id))[0]\n",
    "graph = {}\n",
    "for u in tqdm.tqdm_notebook(combined_ids, desc = \"collecting random uers\", leave = False):\n",
    "    df = pd.read_csv(fname(u))\n",
    "    subgraph = df[df[\"user_id_followers\"].isin(combined_ids)]\n",
    "    if len(subgraph) > 0:\n",
    "        graph[u] = subgraph\n",
    "    else:\n",
    "        combined_ids.remove(u)\n",
    "\n",
    "result = []\n",
    "print(\"Backward propagating...\")\n",
    "for u in tqdm.tqdm_notebook(graph.keys(), desc = \"parsing collected random users\"):\n",
    "    df = pd.read_csv(fname(u))\n",
    "    subgraph = df[df[\"user_id_followers\"].isin(random_users)]\n",
    "    subgraph = graph[u].append(subgraph).drop_duplicates()\n",
    "    subgraph = pd.DataFrame(subgraph[\"user_id_followers\"].apply(lambda x: {\"node_1\": u, \"node_2\": x}).tolist())\n",
    "    result.append(subgraph)"
   ]
  },
  {
   "cell_type": "code",
   "execution_count": null,
   "metadata": {},
   "outputs": [],
   "source": [
    "mnf_result = result\n"
   ]
  },
  {
   "cell_type": "code",
   "execution_count": null,
   "metadata": {},
   "outputs": [],
   "source": [
    "line_result = pd.concat(line_result)"
   ]
  },
  {
   "cell_type": "code",
   "execution_count": null,
   "metadata": {},
   "outputs": [],
   "source": [
    "result = pd.concat(result)\n",
    "result"
   ]
  },
  {
   "cell_type": "code",
   "execution_count": null,
   "metadata": {},
   "outputs": [],
   "source": [
    "subgraph = graph[u].append(subgraph).drop_duplicates()\n",
    "subgraph"
   ]
  },
  {
   "cell_type": "code",
   "execution_count": null,
   "metadata": {},
   "outputs": [],
   "source": [
    "def g():\n",
    "    filesnames = [(user_id, followers_dir + str(random_users[i]) + \"/\" + os.listdir(followers_dir +\"/\" + str(random_users[i]))[0]) for i, user_id in enumerate(random_users)]\n",
    "    dfs = [pd.read_csv(f, names = [user_id], header=None) for user_id, f in filesnames]\n",
    "\n",
    "    result = []\n",
    "    for df in dfs:\n",
    "        user_id = df.columns[0]\n",
    "        for follower in df.values:\n",
    "            result.append({\n",
    "                \"node_1\": user_id,\n",
    "                \"node_2\": follower\n",
    "            })\n",
    "%time g()"
   ]
  },
  {
   "cell_type": "code",
   "execution_count": null,
   "metadata": {},
   "outputs": [],
   "source": [
    "def y():\n",
    "    result = []\n",
    "    failures = 0\n",
    "    for i, user_id in enumerate(random_users):\n",
    "        try:\n",
    "            filename = os.listdir(followers_dir +\"/\" + str(random_users[i]))[0]\n",
    "            followers = pd.read_csv(followers_dir + str(random_users[i]) + \"/\" + filename)[\"user_id_followers\"].values\n",
    "\n",
    "            for follower in followers:\n",
    "                result.append({\n",
    "                    \"node_1\": user_id,\n",
    "                    \"node_2\": follower\n",
    "                })\n",
    "        except Exception as e:\n",
    "            failures += 1\n",
    "\n",
    "%time y()"
   ]
  },
  {
   "cell_type": "code",
   "execution_count": null,
   "metadata": {
    "scrolled": true
   },
   "outputs": [],
   "source": [
    "# CONSTRUCT LINE FILE\n",
    "result = []\n",
    "failures = 0\n",
    "print(\"Compiling user data...\")\n",
    "\n",
    "for i, user_id in enumerate(random_users):\n",
    "    try:\n",
    "        followers = pd.read_csv(followers_dir + str(random_users[i]) + \"/2019__10__\" + str(random_users[i]) + \".csv\")[\"user_id_followers\"].values\n",
    "        datum = {\n",
    "            'node_id': user_id,\n",
    "            'neigh_num': len(followers),\n",
    "            'neighbors': followers\n",
    "        }\n",
    "        result.append(datum)\n",
    "    except:\n",
    "        failures += 1\n",
    "print(\"writing file...\")\n",
    "with open(\"sine.txt\", \"w+\") as f:\n",
    "    f.write(str(len(result)) + \" 1\\n\")\n",
    "    for node in result:\n",
    "        f.write(str(node[\"node_id\"]) + \"\\n\")\n",
    "        f.write(str(node[\"neigh_num\"]) + \"\\n\")\n",
    "        f.write(\" \".join([str(n) for n in node[\"neighbors\"]]) + \"\\n\")\n",
    "        f.write(\"1\\n\")\n",
    "        f.write(\"0\\n\")\n",
    "\n",
    "print(\"done\")"
   ]
  },
  {
   "cell_type": "code",
   "execution_count": null,
   "metadata": {},
   "outputs": [],
   "source": [
    "# h = pd.DataFrame(result)\n",
    "h = line_result\n",
    "r = np.concatenate((h[\"source_node\"].unique(),h[\"target_node\"].unique()), axis=0)\n",
    "rl = r.tolist()\n",
    "obj = {}\n",
    "for i, x in enumerate(r):\n",
    "    obj[x] = i\n",
    "h[\"source_node\"] = h[\"source_node\"].apply(lambda x: obj[x])\n",
    "h[\"target_node\"] = h[\"target_node\"].apply(lambda x: obj[x])\n",
    "\n",
    "# h.to_csv(\"followerified_with_geo.csv\", index=False)"
   ]
  },
  {
   "cell_type": "code",
   "execution_count": null,
   "metadata": {},
   "outputs": [],
   "source": [
    "h.to_csv(\"line_result.csv\", index=False)"
   ]
  },
  {
   "cell_type": "code",
   "execution_count": null,
   "metadata": {},
   "outputs": [],
   "source": [
    "result = []\n",
    "for user in h[\"node_1\"].unique():\n",
    "    followers = h[h[\"node_1\"] == user][\"node_2\"].values\n",
    "    datum = {\n",
    "        'node_id': user,\n",
    "        'neigh_num': len(followers),\n",
    "        'neighbors': followers\n",
    "    }\n",
    "    result.append(datum)"
   ]
  },
  {
   "cell_type": "code",
   "execution_count": null,
   "metadata": {},
   "outputs": [],
   "source": [
    "with open(\"sine.txt\", \"w+\") as f:\n",
    "    f.write(str(len(result)) + \" 0\\n\")\n",
    "    for node in result:\n",
    "        f.write(str(node[\"node_id\"]) + \"\\n\")\n",
    "        f.write(str(node[\"neigh_num\"]) + \"\\n\")\n",
    "        f.write(\" \".join([str(n) for n in node[\"neighbors\"]]) + \"\\n\")\n",
    "        f.write(\"0\\n\")\n",
    "        f.write(\"\\n\")\n",
    "\n",
    "print(\"done\")"
   ]
  },
  {
   "cell_type": "code",
   "execution_count": null,
   "metadata": {},
   "outputs": [],
   "source": [
    "line_embedding = pd.read_csv(\"line_embedding.csv\", index_col=0)\n",
    "mnf_embedding = pd.read_csv(\"mnf_embedding.csv\")"
   ]
  },
  {
   "cell_type": "code",
   "execution_count": null,
   "metadata": {},
   "outputs": [],
   "source": [
    "vals = list(obj.values())\n",
    "keys = list(obj.keys())"
   ]
  },
  {
   "cell_type": "code",
   "execution_count": null,
   "metadata": {},
   "outputs": [],
   "source": [
    "def j(x):\n",
    "    mapped_id = keys[vals.index(x.name)]\n",
    "    \n",
    "    ideology = ideals[ideals[\"id_str\"] == int(mapped_id)]\n",
    "    geo = geos[geos[\"user_id\"] == int(mapped_id)]\n",
    "    \n",
    "    x[\"mapped_id\"] = mapped_id\n",
    "    x['theta'] = ideology[\"theta\"].iloc[0]\n",
    "    x[\"longitude\"] = geo[\"longitude\"].iloc[0]\n",
    "    x[\"latitude\"] = geo[\"latitude\"].iloc[0]\n",
    "    x[\"raw_location\"] = geo[\"raw_location\"].iloc[0]\n",
    "    x[\"country\"] = geo[\"country\"].iloc[0]\n",
    "    return x\n",
    "\n",
    "# dataset = embedding.apply(j, axis=1)\n",
    "line_dataset = line_embedding.apply(j, axis=1)\n",
    "mnf_dataset = mnf_embedding.apply(j, axis=1)"
   ]
  },
  {
   "cell_type": "code",
   "execution_count": 179,
   "metadata": {},
   "outputs": [],
   "source": [
    "X_line = line_dataset[line_dataset.columns.difference(['mapped_id', 'theta', \"country\",\"raw_location\", \"latitude\", \"longitude\"])]\n",
    "y_line = line_dataset[[\"theta\"]]\n",
    "y_line_multi = line_dataset[[\"theta\", \"latitude\", \"longitude\"]]"
   ]
  },
  {
   "cell_type": "code",
   "execution_count": 212,
   "metadata": {},
   "outputs": [],
   "source": [
    "X_mnf = mnf_dataset[mnf_dataset.columns.difference(['mapped_id', 'theta', \"country\",\"raw_location\", \"latitude\", \"longitude\"])]\n",
    "y_mnf = mnf_dataset[[\"theta\"]]\n",
    "y_mnf_multi = mnf_dataset[[\"theta\", \"latitude\", \"longitude\"]]"
   ]
  },
  {
   "cell_type": "code",
   "execution_count": 213,
   "metadata": {},
   "outputs": [],
   "source": [
    "X_mnf_train, X_mnf_test, y_mnf_train, y_mnf_test = train_test_split(X_mnf, y_mnf, test_size=0.33, random_state=42)\n",
    "y_mnf_train = y_mnf_train.fillna(0)\n",
    "y_mnf_test = y_mnf_test.fillna(0)"
   ]
  },
  {
   "cell_type": "code",
   "execution_count": 207,
   "metadata": {},
   "outputs": [],
   "source": [
    "X_line_train, X_line_test, y_line_train, y_line_test = train_test_split(X_line, y_line, test_size=0.33, random_state=42)\n",
    "y_line_train = y_line_train.fillna(0)\n",
    "y_line_test = y_line_test.fillna(0)"
   ]
  },
  {
   "cell_type": "markdown",
   "metadata": {},
   "source": [
    "Command to run MNMF model:  \n",
    "`python3 M-NMF/src/main.py --input mnf_result.csv --embedding-output mnf_embedding.csv --cluster-mean-output follower-means20.csv --log-output logs.log --assignment-output assignments20 --dimensions 128`"
   ]
  },
  {
   "cell_type": "markdown",
   "metadata": {},
   "source": [
    "## M-NMF Ideaology Prediction Score using Linear Regression"
   ]
  },
  {
   "cell_type": "markdown",
   "metadata": {},
   "source": [
    "|             | Ideaology Prediction | Ideology + Geolocation\n",
    "| ----------- | ----------- | -----\n",
    "| MNMF  | -0.2655526498888303 | -0.31522200277874185\n",
    "       |\n",
    "| LINE  | -0.37365315089042994 | -0.26061137560660297"
   ]
  },
  {
   "cell_type": "code",
   "execution_count": 214,
   "metadata": {},
   "outputs": [
    {
     "data": {
      "text/plain": [
       "-0.2655526498888303"
      ]
     },
     "execution_count": 214,
     "metadata": {},
     "output_type": "execute_result"
    }
   ],
   "source": [
    "model = LinearRegression()\n",
    "model.fit(X_mnf_train, y_mnf_train)\n",
    "model.score(X_mnf_test, y_mnf_test)"
   ]
  },
  {
   "cell_type": "markdown",
   "metadata": {},
   "source": [
    "## LINE Ideaology Prediction Score using Linear Regression"
   ]
  },
  {
   "cell_type": "code",
   "execution_count": 210,
   "metadata": {},
   "outputs": [
    {
     "data": {
      "text/plain": [
       "-0.37365315089042994"
      ]
     },
     "execution_count": 210,
     "metadata": {},
     "output_type": "execute_result"
    }
   ],
   "source": [
    "model = LinearRegression()\n",
    "model.fit(X_line_train, y_line_train)\n",
    "model.score(X_line_test, y_line_test)"
   ]
  },
  {
   "cell_type": "code",
   "execution_count": 215,
   "metadata": {},
   "outputs": [],
   "source": [
    "X_mnf_train, X_mnf_test, y_mnf_train, y_mnf_test = train_test_split(X_mnf, y_mnf_multi, test_size=0.33, random_state=42)\n",
    "y_mnf_train = y_mnf_train.fillna(0)\n",
    "y_mnf_test = y_mnf_test.fillna(0)\n",
    "\n",
    "X_line_train, X_line_test, y_line_train, y_line_test = train_test_split(X_line, y_line_multi, test_size=0.33, random_state=42)\n",
    "y_line_train = y_line_train.fillna(0)\n",
    "y_line_test = y_line_test.fillna(0)"
   ]
  },
  {
   "cell_type": "markdown",
   "metadata": {},
   "source": [
    "## M-NMF Ideaology & Geolocation Prediction Score using Random Forest Regression"
   ]
  },
  {
   "cell_type": "code",
   "execution_count": 216,
   "metadata": {},
   "outputs": [
    {
     "name": "stderr",
     "output_type": "stream",
     "text": [
      "/usr/local/lib/python3.7/site-packages/sklearn/ensemble/forest.py:245: FutureWarning: The default value of n_estimators will change from 10 in version 0.20 to 100 in 0.22.\n",
      "  \"10 in version 0.20 to 100 in 0.22.\", FutureWarning)\n",
      "/usr/local/lib/python3.7/site-packages/sklearn/base.py:420: FutureWarning: The default value of multioutput (not exposed in score method) will change from 'variance_weighted' to 'uniform_average' in 0.23 to keep consistent with 'metrics.r2_score'. To specify the default value manually and avoid the warning, please either call 'metrics.r2_score' directly or make a custom scorer with 'metrics.make_scorer' (the built-in scorer 'r2' uses multioutput='uniform_average').\n",
      "  \"multioutput='uniform_average').\", FutureWarning)\n"
     ]
    },
    {
     "data": {
      "text/plain": [
       "-0.31522200277874185"
      ]
     },
     "execution_count": 216,
     "metadata": {},
     "output_type": "execute_result"
    }
   ],
   "source": [
    "tree_model = RandomForestRegressor()\n",
    "tree_model.fit(X_mnf_train, y_mnf_train)\n",
    "tree_model.score(X_mnf_test, y_mnf_test)"
   ]
  },
  {
   "cell_type": "markdown",
   "metadata": {},
   "source": [
    "## LINE Ideaology & Geolocation Prediction Score using Random Forest Regression"
   ]
  },
  {
   "cell_type": "code",
   "execution_count": 217,
   "metadata": {},
   "outputs": [
    {
     "name": "stderr",
     "output_type": "stream",
     "text": [
      "/usr/local/lib/python3.7/site-packages/sklearn/ensemble/forest.py:245: FutureWarning: The default value of n_estimators will change from 10 in version 0.20 to 100 in 0.22.\n",
      "  \"10 in version 0.20 to 100 in 0.22.\", FutureWarning)\n",
      "/usr/local/lib/python3.7/site-packages/sklearn/base.py:420: FutureWarning: The default value of multioutput (not exposed in score method) will change from 'variance_weighted' to 'uniform_average' in 0.23 to keep consistent with 'metrics.r2_score'. To specify the default value manually and avoid the warning, please either call 'metrics.r2_score' directly or make a custom scorer with 'metrics.make_scorer' (the built-in scorer 'r2' uses multioutput='uniform_average').\n",
      "  \"multioutput='uniform_average').\", FutureWarning)\n"
     ]
    },
    {
     "data": {
      "text/plain": [
       "-0.26061137560660297"
      ]
     },
     "execution_count": 217,
     "metadata": {},
     "output_type": "execute_result"
    }
   ],
   "source": [
    "tree_model = RandomForestRegressor()\n",
    "tree_model.fit(X_line_train, y_line_train)\n",
    "tree_model.score(X_line_test, y_line_test)"
   ]
  }
 ],
 "metadata": {
  "kernelspec": {
   "display_name": "Python 3",
   "language": "python",
   "name": "python3"
  },
  "language_info": {
   "codemirror_mode": {
    "name": "ipython",
    "version": 3
   },
   "file_extension": ".py",
   "mimetype": "text/x-python",
   "name": "python",
   "nbconvert_exporter": "python",
   "pygments_lexer": "ipython3",
   "version": "3.7.5"
  }
 },
 "nbformat": 4,
 "nbformat_minor": 2
}
