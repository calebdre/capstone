{
 "cells": [
  {
   "cell_type": "code",
   "execution_count": 2,
   "metadata": {},
   "outputs": [],
   "source": [
    "import pandas as pd\n",
    "import numpy as np\n",
    "import random\n",
    "import os\n",
    "import networkx as nx\n",
    "\n",
    "import matplotlib.pyplot as plt\n",
    "from sklearn.linear_model import LinearRegression\n",
    "from sklearn.ensemble import RandomForestRegressor\n",
    "from sklearn.model_selection import train_test_split\n",
    "from pylab import rcParams\n",
    "\n",
    "from importlib import reload\n",
    "import merf.merf\n",
    "rcParams['figure.figsize'] = 18, 15\n",
    "\n",
    "%matplotlib inline"
   ]
  },
  {
   "cell_type": "code",
   "execution_count": null,
   "metadata": {},
   "outputs": [],
   "source": [
    "ideologies_dir = \"./\"\n",
    "followers_dir = \"../followers/\"\n",
    "geolocations_dir = \"./\""
   ]
  },
  {
   "cell_type": "code",
   "execution_count": null,
   "metadata": {},
   "outputs": [],
   "source": [
    "ideals1 = pd.read_csv(ideologies_dir + \"user-ideal-points-201807-000000000000.csv\")"
   ]
  },
  {
   "cell_type": "code",
   "execution_count": null,
   "metadata": {},
   "outputs": [],
   "source": [
    "ideals1"
   ]
  },
  {
   "cell_type": "code",
   "execution_count": null,
   "metadata": {},
   "outputs": [],
   "source": [
    "ideals1 = pd.read_csv(ideologies_dir + \"user-ideal-points-201807-000000000000.csv\", usecols=[\"id_str\", \"theta\"])\n",
    "ideals2 = pd.read_csv(ideologies_dir + \"user-ideal-points-201807-000000000001.csv\",  usecols=[\"id_str\", \"theta\"])\n",
    "ideals3 =  pd.read_csv(ideologies_dir + \"user-ideal-points-201807-000000000002.csv\",  usecols=[\"id_str\", \"theta\"])\n",
    "\n",
    "ideals = ideals1.append(ideals2).append(ideals3)"
   ]
  },
  {
   "cell_type": "code",
   "execution_count": null,
   "metadata": {},
   "outputs": [],
   "source": [
    "ideals"
   ]
  },
  {
   "cell_type": "code",
   "execution_count": null,
   "metadata": {},
   "outputs": [],
   "source": [
    "user_ids = os.listdir(followers_dir)"
   ]
  },
  {
   "cell_type": "code",
   "execution_count": null,
   "metadata": {},
   "outputs": [],
   "source": [
    "geos1 = pd.read_csv(geolocations_dir + \"already_located_random_users_machine00.csv\", usecols=[\"user_id\", \"longitude\", \"latitude\", \"raw_location\", \"country\"])\n",
    "geos2 = pd.read_csv(geolocations_dir + \"already_located_random_users_machine01.csv\", usecols=[\"user_id\", \"longitude\", \"latitude\", \"raw_location\", \"country\"])\n",
    "geos3 = pd.read_csv(geolocations_dir + \"already_located_random_users_machine02.csv\", usecols=[\"user_id\", \"longitude\", \"latitude\", \"raw_location\", \"country\"])\n",
    "\n",
    "geos = geos1.append(geos2).append(geos3)"
   ]
  },
  {
   "cell_type": "code",
   "execution_count": null,
   "metadata": {},
   "outputs": [],
   "source": [
    "sample_size = 30"
   ]
  },
  {
   "cell_type": "code",
   "execution_count": null,
   "metadata": {},
   "outputs": [],
   "source": [
    "ideal_ids = ideals[\"id_str\"]\n",
    "geo_ids = geos[\"user_id\"]\n",
    "combined_ids = np.intersect1d(np.intersect1d(ideal_ids.values, geo_ids.values), user_ids)"
   ]
  },
  {
   "cell_type": "code",
   "execution_count": null,
   "metadata": {},
   "outputs": [],
   "source": [
    "random_users = random.sample(combined_ids.tolist(), sample_size)"
   ]
  },
  {
   "cell_type": "code",
   "execution_count": null,
   "metadata": {},
   "outputs": [],
   "source": [
    "result = []\n",
    "failures = 0\n",
    "for i, user_id in enumerate(random_users):\n",
    "    try:\n",
    "        followers = pd.read_csv(followers_dir + str(random_users[i]) + \"/2019__10__\" + str(random_users[i]) + \".csv\")[\"user_id_followers\"].values\n",
    "\n",
    "        for follower in followers:\n",
    "            result.append({\n",
    "                \"node_1\": user_id,\n",
    "                \"node_2\": follower\n",
    "            })\n",
    "    except Exception as e:\n",
    "        failures += 1\n",
    "\n",
    "print(str(failures) + \" failures (total: \" + str(len(random_users)) + \")\")"
   ]
  },
  {
   "cell_type": "code",
   "execution_count": null,
   "metadata": {},
   "outputs": [],
   "source": [
    "h = pd.DataFrame(result)\n",
    "r = np.concatenate((h[\"node_1\"].unique(),h[\"node_2\"].unique()), axis=0)\n",
    "rl = r.tolist()\n",
    "h[\"node_1\"] = h[\"node_1\"].apply(lambda x: rl.index(x))\n",
    "h[\"node_2\"] = h[\"node_2\"].apply(lambda x: rl.index(x))\n",
    "h.to_csv(\"followerified_with_geo.csv\", index=False)"
   ]
  },
  {
   "cell_type": "code",
   "execution_count": null,
   "metadata": {},
   "outputs": [],
   "source": [
    "g = nx.from_edgelist(h.values.tolist())\n",
    "nx.draw(g, with_labels=True)"
   ]
  },
  {
   "cell_type": "code",
   "execution_count": 4,
   "metadata": {},
   "outputs": [],
   "source": [
    "import gather_data"
   ]
  },
  {
   "cell_type": "code",
   "execution_count": 3,
   "metadata": {},
   "outputs": [
    {
     "data": {
      "text/html": [
       "<div>\n",
       "<style scoped>\n",
       "    .dataframe tbody tr th:only-of-type {\n",
       "        vertical-align: middle;\n",
       "    }\n",
       "\n",
       "    .dataframe tbody tr th {\n",
       "        vertical-align: top;\n",
       "    }\n",
       "\n",
       "    .dataframe thead th {\n",
       "        text-align: right;\n",
       "    }\n",
       "</style>\n",
       "<table border=\"1\" class=\"dataframe\">\n",
       "  <thead>\n",
       "    <tr style=\"text-align: right;\">\n",
       "      <th></th>\n",
       "      <th>X_0</th>\n",
       "      <th>X_1</th>\n",
       "      <th>X_2</th>\n",
       "      <th>X_3</th>\n",
       "      <th>X_4</th>\n",
       "      <th>X_5</th>\n",
       "      <th>X_6</th>\n",
       "      <th>X_7</th>\n",
       "      <th>X_8</th>\n",
       "      <th>X_9</th>\n",
       "      <th>X_10</th>\n",
       "      <th>X_11</th>\n",
       "      <th>X_12</th>\n",
       "      <th>X_13</th>\n",
       "      <th>X_14</th>\n",
       "      <th>X_15</th>\n",
       "    </tr>\n",
       "  </thead>\n",
       "  <tbody>\n",
       "    <tr>\n",
       "      <td>0</td>\n",
       "      <td>0.000783</td>\n",
       "      <td>0.000259</td>\n",
       "      <td>6.608338e-03</td>\n",
       "      <td>0.139337</td>\n",
       "      <td>0.008161</td>\n",
       "      <td>8.911292e-01</td>\n",
       "      <td>0.422842</td>\n",
       "      <td>0.011704</td>\n",
       "      <td>7.916055e-02</td>\n",
       "      <td>0.005295</td>\n",
       "      <td>0.000023</td>\n",
       "      <td>8.678737e-05</td>\n",
       "      <td>4.067816e-05</td>\n",
       "      <td>1.666305e-04</td>\n",
       "      <td>2.396370e-06</td>\n",
       "      <td>0.033701</td>\n",
       "    </tr>\n",
       "    <tr>\n",
       "      <td>1</td>\n",
       "      <td>0.001027</td>\n",
       "      <td>0.001605</td>\n",
       "      <td>5.834005e-03</td>\n",
       "      <td>0.246239</td>\n",
       "      <td>0.016178</td>\n",
       "      <td>3.169142e-01</td>\n",
       "      <td>0.595730</td>\n",
       "      <td>0.056204</td>\n",
       "      <td>6.790958e-01</td>\n",
       "      <td>0.010375</td>\n",
       "      <td>0.001430</td>\n",
       "      <td>1.493107e-04</td>\n",
       "      <td>2.174811e-05</td>\n",
       "      <td>2.367151e-04</td>\n",
       "      <td>1.942592e-04</td>\n",
       "      <td>0.138920</td>\n",
       "    </tr>\n",
       "    <tr>\n",
       "      <td>2</td>\n",
       "      <td>0.000164</td>\n",
       "      <td>0.000380</td>\n",
       "      <td>1.514922e-03</td>\n",
       "      <td>0.039792</td>\n",
       "      <td>0.005548</td>\n",
       "      <td>9.693914e-01</td>\n",
       "      <td>0.182791</td>\n",
       "      <td>0.006800</td>\n",
       "      <td>1.584292e-01</td>\n",
       "      <td>0.006296</td>\n",
       "      <td>0.000205</td>\n",
       "      <td>4.333785e-05</td>\n",
       "      <td>3.622396e-07</td>\n",
       "      <td>7.722085e-05</td>\n",
       "      <td>2.916023e-05</td>\n",
       "      <td>0.008089</td>\n",
       "    </tr>\n",
       "    <tr>\n",
       "      <td>3</td>\n",
       "      <td>0.000220</td>\n",
       "      <td>0.000597</td>\n",
       "      <td>1.435261e-03</td>\n",
       "      <td>0.054044</td>\n",
       "      <td>0.000690</td>\n",
       "      <td>9.443500e-01</td>\n",
       "      <td>0.193652</td>\n",
       "      <td>0.011948</td>\n",
       "      <td>2.577213e-01</td>\n",
       "      <td>0.006774</td>\n",
       "      <td>0.000140</td>\n",
       "      <td>7.476172e-05</td>\n",
       "      <td>1.593456e-05</td>\n",
       "      <td>6.679399e-05</td>\n",
       "      <td>3.634809e-07</td>\n",
       "      <td>0.034197</td>\n",
       "    </tr>\n",
       "    <tr>\n",
       "      <td>4</td>\n",
       "      <td>0.000210</td>\n",
       "      <td>0.000726</td>\n",
       "      <td>7.175338e-04</td>\n",
       "      <td>0.032603</td>\n",
       "      <td>0.002445</td>\n",
       "      <td>9.692505e-01</td>\n",
       "      <td>0.196769</td>\n",
       "      <td>0.016768</td>\n",
       "      <td>1.401035e-01</td>\n",
       "      <td>0.000896</td>\n",
       "      <td>0.000454</td>\n",
       "      <td>3.230209e-05</td>\n",
       "      <td>1.525233e-05</td>\n",
       "      <td>1.164179e-04</td>\n",
       "      <td>1.300884e-05</td>\n",
       "      <td>0.029226</td>\n",
       "    </tr>\n",
       "    <tr>\n",
       "      <td>...</td>\n",
       "      <td>...</td>\n",
       "      <td>...</td>\n",
       "      <td>...</td>\n",
       "      <td>...</td>\n",
       "      <td>...</td>\n",
       "      <td>...</td>\n",
       "      <td>...</td>\n",
       "      <td>...</td>\n",
       "      <td>...</td>\n",
       "      <td>...</td>\n",
       "      <td>...</td>\n",
       "      <td>...</td>\n",
       "      <td>...</td>\n",
       "      <td>...</td>\n",
       "      <td>...</td>\n",
       "      <td>...</td>\n",
       "    </tr>\n",
       "    <tr>\n",
       "      <td>29286</td>\n",
       "      <td>0.995749</td>\n",
       "      <td>0.000409</td>\n",
       "      <td>6.793296e-08</td>\n",
       "      <td>0.000113</td>\n",
       "      <td>0.000049</td>\n",
       "      <td>1.557906e-07</td>\n",
       "      <td>0.012319</td>\n",
       "      <td>0.009654</td>\n",
       "      <td>9.476101e-06</td>\n",
       "      <td>0.000005</td>\n",
       "      <td>0.001341</td>\n",
       "      <td>9.332580e-07</td>\n",
       "      <td>8.840483e-02</td>\n",
       "      <td>3.527968e-09</td>\n",
       "      <td>3.362784e-07</td>\n",
       "      <td>0.020526</td>\n",
       "    </tr>\n",
       "    <tr>\n",
       "      <td>29287</td>\n",
       "      <td>0.976031</td>\n",
       "      <td>0.000673</td>\n",
       "      <td>3.835309e-08</td>\n",
       "      <td>0.000246</td>\n",
       "      <td>0.000009</td>\n",
       "      <td>1.222598e-06</td>\n",
       "      <td>0.008432</td>\n",
       "      <td>0.127425</td>\n",
       "      <td>1.648825e-06</td>\n",
       "      <td>0.000009</td>\n",
       "      <td>0.003605</td>\n",
       "      <td>1.234573e-06</td>\n",
       "      <td>1.503243e-01</td>\n",
       "      <td>5.383950e-08</td>\n",
       "      <td>8.588194e-07</td>\n",
       "      <td>0.091894</td>\n",
       "    </tr>\n",
       "    <tr>\n",
       "      <td>29288</td>\n",
       "      <td>0.986619</td>\n",
       "      <td>0.000501</td>\n",
       "      <td>2.328333e-08</td>\n",
       "      <td>0.000203</td>\n",
       "      <td>0.000020</td>\n",
       "      <td>8.658250e-07</td>\n",
       "      <td>0.016196</td>\n",
       "      <td>0.030176</td>\n",
       "      <td>6.954510e-06</td>\n",
       "      <td>0.000008</td>\n",
       "      <td>0.004288</td>\n",
       "      <td>8.037252e-07</td>\n",
       "      <td>1.409752e-01</td>\n",
       "      <td>5.492281e-08</td>\n",
       "      <td>6.923599e-08</td>\n",
       "      <td>0.074282</td>\n",
       "    </tr>\n",
       "    <tr>\n",
       "      <td>29289</td>\n",
       "      <td>0.996211</td>\n",
       "      <td>0.000409</td>\n",
       "      <td>4.984040e-09</td>\n",
       "      <td>0.000156</td>\n",
       "      <td>0.000053</td>\n",
       "      <td>4.248239e-07</td>\n",
       "      <td>0.012171</td>\n",
       "      <td>0.061790</td>\n",
       "      <td>9.680383e-08</td>\n",
       "      <td>0.000002</td>\n",
       "      <td>0.000434</td>\n",
       "      <td>3.814547e-07</td>\n",
       "      <td>6.421866e-03</td>\n",
       "      <td>6.482918e-09</td>\n",
       "      <td>4.048001e-07</td>\n",
       "      <td>0.059626</td>\n",
       "    </tr>\n",
       "    <tr>\n",
       "      <td>29290</td>\n",
       "      <td>0.993562</td>\n",
       "      <td>0.000037</td>\n",
       "      <td>4.952312e-08</td>\n",
       "      <td>0.000204</td>\n",
       "      <td>0.000052</td>\n",
       "      <td>2.838414e-07</td>\n",
       "      <td>0.012982</td>\n",
       "      <td>0.053226</td>\n",
       "      <td>1.629200e-05</td>\n",
       "      <td>0.000009</td>\n",
       "      <td>0.001577</td>\n",
       "      <td>8.274155e-07</td>\n",
       "      <td>9.515049e-02</td>\n",
       "      <td>3.275127e-09</td>\n",
       "      <td>2.535105e-07</td>\n",
       "      <td>0.027879</td>\n",
       "    </tr>\n",
       "  </tbody>\n",
       "</table>\n",
       "<p>29291 rows × 16 columns</p>\n",
       "</div>"
      ],
      "text/plain": [
       "            X_0       X_1           X_2       X_3       X_4           X_5  \\\n",
       "0      0.000783  0.000259  6.608338e-03  0.139337  0.008161  8.911292e-01   \n",
       "1      0.001027  0.001605  5.834005e-03  0.246239  0.016178  3.169142e-01   \n",
       "2      0.000164  0.000380  1.514922e-03  0.039792  0.005548  9.693914e-01   \n",
       "3      0.000220  0.000597  1.435261e-03  0.054044  0.000690  9.443500e-01   \n",
       "4      0.000210  0.000726  7.175338e-04  0.032603  0.002445  9.692505e-01   \n",
       "...         ...       ...           ...       ...       ...           ...   \n",
       "29286  0.995749  0.000409  6.793296e-08  0.000113  0.000049  1.557906e-07   \n",
       "29287  0.976031  0.000673  3.835309e-08  0.000246  0.000009  1.222598e-06   \n",
       "29288  0.986619  0.000501  2.328333e-08  0.000203  0.000020  8.658250e-07   \n",
       "29289  0.996211  0.000409  4.984040e-09  0.000156  0.000053  4.248239e-07   \n",
       "29290  0.993562  0.000037  4.952312e-08  0.000204  0.000052  2.838414e-07   \n",
       "\n",
       "            X_6       X_7           X_8       X_9      X_10          X_11  \\\n",
       "0      0.422842  0.011704  7.916055e-02  0.005295  0.000023  8.678737e-05   \n",
       "1      0.595730  0.056204  6.790958e-01  0.010375  0.001430  1.493107e-04   \n",
       "2      0.182791  0.006800  1.584292e-01  0.006296  0.000205  4.333785e-05   \n",
       "3      0.193652  0.011948  2.577213e-01  0.006774  0.000140  7.476172e-05   \n",
       "4      0.196769  0.016768  1.401035e-01  0.000896  0.000454  3.230209e-05   \n",
       "...         ...       ...           ...       ...       ...           ...   \n",
       "29286  0.012319  0.009654  9.476101e-06  0.000005  0.001341  9.332580e-07   \n",
       "29287  0.008432  0.127425  1.648825e-06  0.000009  0.003605  1.234573e-06   \n",
       "29288  0.016196  0.030176  6.954510e-06  0.000008  0.004288  8.037252e-07   \n",
       "29289  0.012171  0.061790  9.680383e-08  0.000002  0.000434  3.814547e-07   \n",
       "29290  0.012982  0.053226  1.629200e-05  0.000009  0.001577  8.274155e-07   \n",
       "\n",
       "               X_12          X_13          X_14      X_15  \n",
       "0      4.067816e-05  1.666305e-04  2.396370e-06  0.033701  \n",
       "1      2.174811e-05  2.367151e-04  1.942592e-04  0.138920  \n",
       "2      3.622396e-07  7.722085e-05  2.916023e-05  0.008089  \n",
       "3      1.593456e-05  6.679399e-05  3.634809e-07  0.034197  \n",
       "4      1.525233e-05  1.164179e-04  1.300884e-05  0.029226  \n",
       "...             ...           ...           ...       ...  \n",
       "29286  8.840483e-02  3.527968e-09  3.362784e-07  0.020526  \n",
       "29287  1.503243e-01  5.383950e-08  8.588194e-07  0.091894  \n",
       "29288  1.409752e-01  5.492281e-08  6.923599e-08  0.074282  \n",
       "29289  6.421866e-03  6.482918e-09  4.048001e-07  0.059626  \n",
       "29290  9.515049e-02  3.275127e-09  2.535105e-07  0.027879  \n",
       "\n",
       "[29291 rows x 16 columns]"
      ]
     },
     "execution_count": 3,
     "metadata": {},
     "output_type": "execute_result"
    }
   ],
   "source": [
    "embedding = pd.read_csv(\"follower-embedding20.csv\")\n",
    "embedding"
   ]
  },
  {
   "cell_type": "code",
   "execution_count": null,
   "metadata": {},
   "outputs": [],
   "source": [
    "grouped_embedding = embedding.groupby(lambda i: h.iloc[i][\"node_1\"] if i < h.shape[0] else None)"
   ]
  },
  {
   "cell_type": "code",
   "execution_count": null,
   "metadata": {},
   "outputs": [],
   "source": [
    "summed_embedding = grouped_embedding.apply(lambda x: np.log(x.sum()))\n",
    "summed_embedding"
   ]
  },
  {
   "cell_type": "code",
   "execution_count": null,
   "metadata": {
    "scrolled": true
   },
   "outputs": [],
   "source": [
    "avg_embedding = grouped_embedding.apply(lambda x: x.mean())\n",
    "avg_embedding"
   ]
  },
  {
   "cell_type": "code",
   "execution_count": null,
   "metadata": {},
   "outputs": [],
   "source": [
    "def j(x):\n",
    "    mapped_id = rl[int(x.name)]\n",
    "    \n",
    "    ideology = ideals[ideals[\"id_str\"] == int(mapped_id)]\n",
    "    geo = geos[geos[\"user_id\"] == int(mapped_id)]\n",
    "    \n",
    "    x[\"mapped_id\"] = mapped_id\n",
    "    x['theta'] = ideology[\"theta\"].iloc[0]\n",
    "    x[\"longitude\"] = geo[\"longitude\"].iloc[0]\n",
    "    x[\"latitude\"] = geo[\"latitude\"].iloc[0]\n",
    "    x[\"raw_location\"] = geo[\"raw_location\"].iloc[0]\n",
    "    x[\"country\"] = geo[\"country\"].iloc[0]\n",
    "    x[\"random_effect\"] = 1\n",
    "    return x\n",
    "\n",
    "dataset = summed_embedding.apply(j, axis=1)"
   ]
  },
  {
   "cell_type": "code",
   "execution_count": 2,
   "metadata": {},
   "outputs": [
    {
     "ename": "NameError",
     "evalue": "name 'dataset' is not defined",
     "output_type": "error",
     "traceback": [
      "\u001b[0;31m---------------------------------------------------------\u001b[0m",
      "\u001b[0;31mNameError\u001b[0m               Traceback (most recent call last)",
      "\u001b[0;32m<ipython-input-2-1b8996c553b1>\u001b[0m in \u001b[0;36m<module>\u001b[0;34m\u001b[0m\n\u001b[0;32m----> 1\u001b[0;31m \u001b[0mdataset\u001b[0m\u001b[0;34m.\u001b[0m\u001b[0mto_csv\u001b[0m\u001b[0;34m(\u001b[0m\u001b[0;34m\"avg_embedding.csv\"\u001b[0m\u001b[0;34m,\u001b[0m \u001b[0mindex\u001b[0m\u001b[0;34m=\u001b[0m\u001b[0;32mFalse\u001b[0m\u001b[0;34m)\u001b[0m\u001b[0;34m\u001b[0m\u001b[0;34m\u001b[0m\u001b[0m\n\u001b[0m",
      "\u001b[0;31mNameError\u001b[0m: name 'dataset' is not defined"
     ]
    }
   ],
   "source": [
    "dataset.to_csv(\"avg_embedding.csv\", index=False)"
   ]
  },
  {
   "cell_type": "code",
   "execution_count": 3,
   "metadata": {},
   "outputs": [],
   "source": [
    "dataset = pd.read_csv(\"avg_embedding.csv\")"
   ]
  },
  {
   "cell_type": "code",
   "execution_count": 4,
   "metadata": {},
   "outputs": [],
   "source": [
    "X = dataset[dataset.columns.difference(['mapped_id', 'theta', \"country\",\"raw_location\", \"latitude\", \"longitude\"])]\n",
    "y = dataset[[\"theta\"]]\n",
    "y_multi = dataset[[\"theta\", \"latitude\", \"longitude\"]]"
   ]
  },
  {
   "cell_type": "code",
   "execution_count": 5,
   "metadata": {},
   "outputs": [],
   "source": [
    "X_train, X_test, y_train, y_test = train_test_split(X, y, test_size=0.33, random_state=42)"
   ]
  },
  {
   "cell_type": "code",
   "execution_count": null,
   "metadata": {},
   "outputs": [],
   "source": [
    "model = LinearRegression()\n",
    "model.fit(X_train, y_train)"
   ]
  },
  {
   "cell_type": "code",
   "execution_count": null,
   "metadata": {},
   "outputs": [],
   "source": [
    "model.score(X_test, y_test)"
   ]
  },
  {
   "cell_type": "code",
   "execution_count": 6,
   "metadata": {},
   "outputs": [],
   "source": [
    "X_train, X_test, y_train, y_test = train_test_split(X, y_multi, test_size=0.33, random_state=42)"
   ]
  },
  {
   "cell_type": "code",
   "execution_count": null,
   "metadata": {},
   "outputs": [],
   "source": [
    "tree_model = RandomForestRegressor()\n",
    "tree_model.fit(X_train, y_train)"
   ]
  },
  {
   "cell_type": "code",
   "execution_count": null,
   "metadata": {},
   "outputs": [],
   "source": [
    "tree_model.score(X_test, y_test)"
   ]
  },
  {
   "cell_type": "code",
   "execution_count": null,
   "metadata": {},
   "outputs": [],
   "source": [
    "tree_model.predict(X_test).tolist()"
   ]
  }
 ],
 "metadata": {
  "kernelspec": {
   "display_name": "Python 3",
   "language": "python",
   "name": "python3"
  },
  "language_info": {
   "codemirror_mode": {
    "name": "ipython",
    "version": 3
   },
   "file_extension": ".py",
   "mimetype": "text/x-python",
   "name": "python",
   "nbconvert_exporter": "python",
   "pygments_lexer": "ipython3",
   "version": "3.7.4"
  }
 },
 "nbformat": 4,
 "nbformat_minor": 2
}
